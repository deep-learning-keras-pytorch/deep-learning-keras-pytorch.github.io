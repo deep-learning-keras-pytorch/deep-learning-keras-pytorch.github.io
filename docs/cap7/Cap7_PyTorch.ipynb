{
 "cells": [
  {
   "cell_type": "markdown",
   "metadata": {},
   "source": [
    "# **Capítulo 7: Convergencia y ajuste de modelos**\n",
    "\n",
    "## Clasificación de imágenes usando la base de datos CIFAR10"
   ]
  },
  {
   "cell_type": "markdown",
   "metadata": {},
   "source": [
    "Comprobación de acceso a GPU"
   ]
  },
  {
   "cell_type": "code",
   "execution_count": 6,
   "metadata": {},
   "outputs": [],
   "source": [
    "import torch\n",
    "\n",
    "# Si disponemos de GPU, la usamos\n",
    "dispositivo = torch.device('cuda' if torch.cuda.is_available() else 'cpu')"
   ]
  },
  {
   "cell_type": "markdown",
   "metadata": {},
   "source": [
    "Carga y preprocesado de datos"
   ]
  },
  {
   "cell_type": "code",
   "execution_count": 10,
   "metadata": {},
   "outputs": [
    {
     "name": "stdout",
     "output_type": "stream",
     "text": [
      "Downloading https://www.cs.toronto.edu/~kriz/cifar-10-python.tar.gz to ./datos/cifar-10-python.tar.gz\n"
     ]
    },
    {
     "name": "stderr",
     "output_type": "stream",
     "text": [
      "100%|██████████| 170498071/170498071 [00:12<00:00, 13136274.38it/s]\n"
     ]
    },
    {
     "name": "stdout",
     "output_type": "stream",
     "text": [
      "Extracting ./datos/cifar-10-python.tar.gz to ./datos\n"
     ]
    }
   ],
   "source": [
    "from torchvision import datasets, transforms\n",
    "from torch.utils.data import random_split, DataLoader\n",
    "\n",
    "tam_batch = 256\n",
    "\n",
    "# Datos de entrenamiento y validación\n",
    "trainval_dataset = datasets.CIFAR10(\n",
    "    root='./datos', # Ruta donde se almacenarán los datos descargados\n",
    "    train=True,     # Datos de entrenamiento (y validación)\n",
    "    transform=transforms.ToTensor(), # Conversión más normalización\n",
    "    download=True   # Se descargan a la carpeta indicada en root\n",
    ")\n",
    "\n",
    "# Dividimos los datos de entrenamiento en entrenamiento y validación\n",
    "train_tam = int(0.8 * len(trainval_dataset))    # 80% para entrenamiento\n",
    "val_tam = len(trainval_dataset) - train_tam     # 20% para validación\n",
    "train_dataset, val_dataset = random_split(trainval_dataset,\\\n",
    "                                          [train_tam, val_tam])\n",
    "\n",
    "# Datos de test\n",
    "test_dataset = datasets.CIFAR10(\n",
    "    root='./datos', # Misma ruta que los datos de entrenamiento\n",
    "    train=False,    # Datos de test\n",
    "    transform=transforms.ToTensor() # Conversión más normalización\n",
    ")\n",
    "\n",
    "# Creamos los dataloaders\n",
    "train_loader = DataLoader(\n",
    "    train_dataset,  # Dataset sobre el que iterar\n",
    "    batch_size=tam_batch,\n",
    "    shuffle=True    # Se mezclan los datos en cada época de entrenamiento\n",
    ")\n",
    "val_loader = DataLoader(\n",
    "    val_dataset,    # Dataset sobre el que iterar\n",
    "    batch_size=tam_batch,\n",
    "    shuffle=False   # Los datos se evalúan siempre en el mismo orden\n",
    ")\n",
    "test_loader = DataLoader(\n",
    "    test_dataset,\n",
    "    batch_size=tam_batch,\n",
    "    shuffle=False   # Los datos se evalúan siempre en el mismo orden\n",
    ")"
   ]
  },
  {
   "cell_type": "markdown",
   "metadata": {},
   "source": [
    "Visualización del aspecto de los datos"
   ]
  },
  {
   "cell_type": "code",
   "execution_count": 11,
   "metadata": {},
   "outputs": [
    {
     "name": "stdout",
     "output_type": "stream",
     "text": [
      "Tamaño del conjunto de entrenamiento: 40000\n",
      "Tamaño del conjunto de validación: 10000\n",
      "Tamaño del conjunto de test: 10000\n",
      "Tamaño de las imágenes: torch.Size([3, 32, 32])\n"
     ]
    },
    {
     "data": {
      "image/png": "[encoded data removed]",
      "text/plain": [
       "<Figure size 1000x1000 with 2 Axes>"
      ]
     },
     "metadata": {},
     "output_type": "display_data"
    }
   ],
   "source": [
    "import matplotlib.pyplot as plt\n",
    "\n",
    "# Dimensiones de los conjuntos de datos\n",
    "print(f'Tamaño del conjunto de entrenamiento: {len(train_dataset)}')\n",
    "print(f'Tamaño del conjunto de validación: {len(val_dataset)}')\n",
    "print(f'Tamaño del conjunto de test: {len(test_dataset)}')\n",
    "\n",
    "# Obtenemos un lote o batch de imágenes de entrenamiento\n",
    "imagenes, etiquetas = next(iter(train_loader))\n",
    "print(f'Tamaño de las imágenes: {imagenes.shape[1:]}')\n",
    "\n",
    "# Visualizamos las imágenes y etiquetas de un batch de entrenamiento\n",
    "fig, axs = plt.subplots(1, 2, figsize=(10, 10))\n",
    "for i in range(2):\n",
    "    axs[i].imshow(imagenes[i].permute(1, 2, 0))\n",
    "    axs[i].set_title(f'Etiqueta: \\\n",
    "                     {trainval_dataset.classes[etiquetas[i]]}')\n",
    "    axs[i].axis('off')\n",
    "plt.show()"
   ]
  },
  {
   "cell_type": "code",
   "execution_count": 12,
   "metadata": {},
   "outputs": [],
   "source": [
    "import torch.nn as nn\n",
    "\n",
    "class CNN(nn.Module):\n",
    "    def __init__(self, normalizacion=False, dropout=0):\n",
    "        super(CNN, self).__init__()\n",
    "\n",
    "        # 1) Bloque extractor de características\n",
    "        # - Convolución con activación -> Normalización -> Pooling\n",
    "        self.conv1 = nn.Conv2d(3, 16, kernel_size=5, padding='same')\n",
    "        if normalizacion:\n",
    "            self.norm1 = nn.BatchNorm2d(16) # Núm. Canales\n",
    "        else:\n",
    "            self.norm1 = nn.Identity()\n",
    "        self.pool1 = nn.MaxPool2d(kernel_size=2)\n",
    "        # - Convolución con activación -> Normalización -> Pooling\n",
    "        self.conv2 = nn.Conv2d(16, 32, kernel_size=5, padding='same')\n",
    "        if normalizacion:\n",
    "            self.norm2 = nn.BatchNorm2d(32) # Núm. Canales\n",
    "        else:\n",
    "            self.norm2 = nn.Identity()\n",
    "        self.pool2 = nn.MaxPool2d(kernel_size=2)\n",
    "        # - Dropout\n",
    "        self.dropout = nn.Dropout(dropout)\n",
    "\n",
    "        # 2) Bloque clasificador de características\n",
    "        self.flatten = nn.Flatten()\n",
    "        self.lin1 = nn.Linear(32 * 8 * 8, 256)\n",
    "        self.lin2 = nn.Linear(256, 128)\n",
    "        self.lin3 = nn.Linear(128, 10)\n",
    "\n",
    "        # Activaciones:\n",
    "        self.relu = nn.ReLU()\n",
    "\n",
    "    def forward(self, x):\n",
    "        x = self.relu(self.conv1(x))\n",
    "        x = self.norm1(x)\n",
    "        x = self.pool1(x)\n",
    "        x = self.relu(self.conv2(x))\n",
    "        x = self.norm2(x)\n",
    "        x = self.pool2(x)\n",
    "        x = self.dropout(x)\n",
    "        x = self.flatten(x)\n",
    "        x = self.relu(self.lin1(x))\n",
    "        x = self.relu(self.lin2(x))\n",
    "        y = self.lin3(x)\n",
    "        return y"
   ]
  },
  {
   "cell_type": "markdown",
   "metadata": {},
   "source": [
    "Implementación de la función de entrenamiento"
   ]
  },
  {
   "cell_type": "code",
   "execution_count": 13,
   "metadata": {},
   "outputs": [],
   "source": [
    "def epoca_train(modelo, train_loader, optimizador,\\\n",
    "                func_perdida, dispositivo, aumentados=None):\n",
    "    epoca_perdidas = []\n",
    "    # Iteramos sobre los datos de entrenamiento\n",
    "    for i, (imagenes, etiquetas) in enumerate(train_loader):\n",
    "        # Si es posible, transferimos los datos a la GPU\n",
    "        imagenes = imagenes.to(dispositivo)\n",
    "        etiquetas = etiquetas.to(dispositivo)\n",
    "        # Aumentado de datos\n",
    "        if aumentados is not None:\n",
    "            imagenes = aumentados(imagenes)\n",
    "        # Ponemos los gradientes a cero\n",
    "        optimizador.zero_grad()\n",
    "        # Calculamos las salidas de la red neuronal\n",
    "        # para las imágenes de entrada\n",
    "        salidas = modelo(imagenes)\n",
    "        # Calculamos la pérdida de la red neuronal\n",
    "        perdida = func_perdida(salidas, etiquetas)\n",
    "        # Calculamos los gradientes de la pérdida\n",
    "        # respecto a los parámetros de la red neuronal\n",
    "        perdida.backward()\n",
    "        # Actualizamos los parámetros de la red neuronal\n",
    "        # usando el algoritmo de optimización\n",
    "        optimizador.step()\n",
    "        # Añadimos a la lista de pérdidas la pérdida actual\n",
    "        epoca_perdidas.append(perdida.item())\n",
    "    # Calculamos la media de las pérdidas para una época\n",
    "    return sum(epoca_perdidas) / len(epoca_perdidas)"
   ]
  },
  {
   "cell_type": "markdown",
   "metadata": {},
   "source": [
    "Implementación de la función de test"
   ]
  },
  {
   "cell_type": "code",
   "execution_count": 14,
   "metadata": {},
   "outputs": [],
   "source": [
    "def epoca_test(modelo, test_loader, dispositivo):\n",
    "    # Establecemos la red neuronal en modo de evaluación\n",
    "    modelo.eval()\n",
    "    # Desactivamos el cálculo de gradientes\n",
    "    with torch.no_grad():\n",
    "        correcto = 0\n",
    "        total = 0\n",
    "        # Iteramos sobre los datos de test\n",
    "        for imagenes, etiquetas in test_loader:\n",
    "            # Si es posible, transferimos los datos a la GPU\n",
    "            imagenes = imagenes.to(dispositivo)\n",
    "            etiquetas = etiquetas.to(dispositivo)\n",
    "            # Calculamos las salidas de la red neuronal\n",
    "            # para las imágenes de entrada\n",
    "            salidas = modelo(imagenes)\n",
    "            # Calculamos las probabilidades de las clases\n",
    "            salidas = salidas.softmax(dim=1)\n",
    "            # Obtenemos la clase con mayor probabilidad\n",
    "            prediccion = salidas.argmax(dim=1)\n",
    "            # Incrementamos el contador de imágenes procesadas\n",
    "            total += etiquetas.size(0)\n",
    "            # Incrementamos el contador de imágenes\n",
    "            # clasificadas correctamente\n",
    "            correcto += (prediccion == etiquetas).sum().item()\n",
    "        # Calculamos la exactitud\n",
    "        exactitud = 100 * correcto / total\n",
    "    # Establecemos la red neuronal en modo entrenamiento\n",
    "    modelo.train()\n",
    "    return exactitud"
   ]
  },
  {
   "cell_type": "markdown",
   "metadata": {},
   "source": [
    "Implementación de la función de entrenamiento"
   ]
  },
  {
   "cell_type": "code",
   "execution_count": 15,
   "metadata": {},
   "outputs": [],
   "source": [
    "def entrenar(modelo, train_loader, val_loader, test_loader,\\\n",
    "             epocas, optimizador, func_perdida, dispositivo,\\\n",
    "             early_stop=False, paciencia=0, aumentados=None):\n",
    "    # Históricos de valores de pérdida de entrenamiento\n",
    "    train_perdidas = []\n",
    "    # Históricos de valores de exactitud de entrenamiento,\n",
    "    # validación y test\n",
    "    train_accs, val_accs, test_accs = [], [], []\n",
    "    # Mejor exactitud de validación\n",
    "    mejor_val_acc = 0\n",
    "    # Contador de épocas desde la última mejora en validación\n",
    "    epocas_desde_mejora = 0\n",
    "\n",
    "    # Iteramos por cada época\n",
    "    for epoca in range(epocas):\n",
    "        # Entrenamos la red neuronal por una época\n",
    "        train_perdida = epoca_train(modelo, train_loader, optimizador,\\\n",
    "                                    func_perdida, dispositivo)\n",
    "        train_perdidas.append(train_perdida)\n",
    "        # Calculamos la exactitud para los datos de entrenamiento\n",
    "        train_acc = epoca_test(modelo, train_loader, dispositivo)\n",
    "        train_accs.append(train_acc)\n",
    "        # Calculamos la exactitud para los datos de validación\n",
    "        valid_acc = epoca_test(modelo, val_loader, dispositivo)\n",
    "        val_accs.append(valid_acc)\n",
    "        # Calculamos la exactitud para los datos de test\n",
    "        test_acc = epoca_test(modelo, test_loader, dispositivo)\n",
    "        test_accs.append(test_acc)\n",
    "        # Sacamos los resultados por pantalla\n",
    "        print(f'Época {epoca+1}/{epocas},\\\n",
    "        pérdida={train_perdida:.4f},\\\n",
    "        exactitud_train={train_acc:.2f}%,\\\n",
    "        exactitud_val={valid_acc:.2f}%,\\\n",
    "        exactitud_test={test_acc:.2f}%')\n",
    "\n",
    "        # Early stopping\n",
    "        if early_stop:\n",
    "            if valid_acc > mejor_val_acc:\n",
    "                mejor_val_acc = valid_acc\n",
    "                epocas_desde_mejora = 0  # Reset\n",
    "            else:\n",
    "                epocas_desde_mejora += 1\n",
    "            # Si la exactitud de validación no mejora tras \"paciencia\"\n",
    "            # épocas, paramos el entrenamiento\n",
    "            if epocas_desde_mejora == paciencia:\n",
    "                print(f'No se ha mejorado la tasa de acierto en\\\n",
    "                      validación en {paciencia} épocas.')\n",
    "                break  # Salimos del bucle de las épocas\n",
    "\n",
    "    # Se ha completado el entrenamiento de la red neuronal\n",
    "    print('Fin del entrenamiento.')\n",
    "    return train_perdidas, train_accs, val_accs, test_accs"
   ]
  },
  {
   "cell_type": "markdown",
   "metadata": {},
   "source": [
    "Definición de los hipérparámetros comúnes a ambos escenarios"
   ]
  },
  {
   "cell_type": "code",
   "execution_count": 16,
   "metadata": {},
   "outputs": [],
   "source": [
    "epocas = 50\n",
    "func_perdida = nn.CrossEntropyLoss()"
   ]
  },
  {
   "cell_type": "code",
   "execution_count": 17,
   "metadata": {},
   "outputs": [
    {
     "name": "stdout",
     "output_type": "stream",
     "text": [
      "Época 1/50,        pérdida=1.8341,        exactitud_train=42.40%,        exactitud_val=42.57%,        exactitud_test=42.52%\n",
      "Época 2/50,        pérdida=1.5110,        exactitud_train=46.52%,        exactitud_val=45.73%,        exactitud_test=46.43%\n",
      "Época 3/50,        pérdida=1.3718,        exactitud_train=51.63%,        exactitud_val=50.85%,        exactitud_test=51.13%\n",
      "Época 4/50,        pérdida=1.2596,        exactitud_train=54.81%,        exactitud_val=53.69%,        exactitud_test=53.54%\n",
      "Época 5/50,        pérdida=1.1486,        exactitud_train=61.94%,        exactitud_val=59.89%,        exactitud_test=59.46%\n",
      "Época 6/50,        pérdida=1.0673,        exactitud_train=63.64%,        exactitud_val=60.92%,        exactitud_test=61.25%\n",
      "Época 7/50,        pérdida=1.0016,        exactitud_train=67.78%,        exactitud_val=63.90%,        exactitud_test=63.88%\n",
      "Época 8/50,        pérdida=0.9183,        exactitud_train=68.98%,        exactitud_val=64.07%,        exactitud_test=63.97%\n",
      "Época 9/50,        pérdida=0.8724,        exactitud_train=71.23%,        exactitud_val=65.66%,        exactitud_test=65.61%\n",
      "Época 10/50,        pérdida=0.8190,        exactitud_train=72.68%,        exactitud_val=66.29%,        exactitud_test=66.05%\n",
      "Época 11/50,        pérdida=0.7678,        exactitud_train=72.39%,        exactitud_val=65.81%,        exactitud_test=65.18%\n",
      "Época 12/50,        pérdida=0.7235,        exactitud_train=73.42%,        exactitud_val=65.67%,        exactitud_test=65.20%\n",
      "Época 13/50,        pérdida=0.6739,        exactitud_train=79.31%,        exactitud_val=68.74%,        exactitud_test=67.86%\n",
      "Época 14/50,        pérdida=0.6161,        exactitud_train=81.73%,        exactitud_val=69.19%,        exactitud_test=68.28%\n",
      "Época 15/50,        pérdida=0.5738,        exactitud_train=83.80%,        exactitud_val=69.40%,        exactitud_test=68.81%\n",
      "Época 16/50,        pérdida=0.5240,        exactitud_train=83.40%,        exactitud_val=68.35%,        exactitud_test=68.06%\n",
      "Época 17/50,        pérdida=0.4784,        exactitud_train=85.22%,        exactitud_val=68.41%,        exactitud_test=67.70%\n",
      "Época 18/50,        pérdida=0.4287,        exactitud_train=85.81%,        exactitud_val=67.74%,        exactitud_test=67.37%\n",
      "Época 19/50,        pérdida=0.3894,        exactitud_train=89.88%,        exactitud_val=69.51%,        exactitud_test=68.67%\n",
      "Época 20/50,        pérdida=0.3439,        exactitud_train=90.36%,        exactitud_val=68.13%,        exactitud_test=67.75%\n",
      "Época 21/50,        pérdida=0.2985,        exactitud_train=91.47%,        exactitud_val=68.76%,        exactitud_test=67.54%\n",
      "Época 22/50,        pérdida=0.2725,        exactitud_train=92.56%,        exactitud_val=68.27%,        exactitud_test=67.36%\n",
      "Época 23/50,        pérdida=0.2378,        exactitud_train=93.39%,        exactitud_val=68.32%,        exactitud_test=67.32%\n",
      "Época 24/50,        pérdida=0.1944,        exactitud_train=92.30%,        exactitud_val=67.56%,        exactitud_test=66.63%\n",
      "Época 25/50,        pérdida=0.1695,        exactitud_train=95.42%,        exactitud_val=68.07%,        exactitud_test=67.42%\n",
      "Época 26/50,        pérdida=0.1482,        exactitud_train=95.38%,        exactitud_val=68.54%,        exactitud_test=67.50%\n",
      "Época 27/50,        pérdida=0.1346,        exactitud_train=96.62%,        exactitud_val=68.03%,        exactitud_test=67.04%\n",
      "Época 28/50,        pérdida=0.1062,        exactitud_train=95.19%,        exactitud_val=67.81%,        exactitud_test=66.47%\n",
      "Época 29/50,        pérdida=0.0876,        exactitud_train=97.73%,        exactitud_val=68.11%,        exactitud_test=67.18%\n",
      "Época 30/50,        pérdida=0.0735,        exactitud_train=98.12%,        exactitud_val=68.45%,        exactitud_test=67.72%\n",
      "Época 31/50,        pérdida=0.0579,        exactitud_train=98.45%,        exactitud_val=68.15%,        exactitud_test=67.40%\n",
      "Época 32/50,        pérdida=0.0750,        exactitud_train=98.83%,        exactitud_val=68.19%,        exactitud_test=67.54%\n",
      "Época 33/50,        pérdida=0.0646,        exactitud_train=98.27%,        exactitud_val=68.10%,        exactitud_test=66.85%\n",
      "Época 34/50,        pérdida=0.0856,        exactitud_train=96.59%,        exactitud_val=66.83%,        exactitud_test=65.65%\n",
      "Época 35/50,        pérdida=0.0761,        exactitud_train=98.08%,        exactitud_val=68.15%,        exactitud_test=66.89%\n",
      "Época 36/50,        pérdida=0.0670,        exactitud_train=98.78%,        exactitud_val=67.86%,        exactitud_test=67.13%\n",
      "Época 37/50,        pérdida=0.0376,        exactitud_train=99.11%,        exactitud_val=68.11%,        exactitud_test=67.32%\n",
      "Época 38/50,        pérdida=0.0299,        exactitud_train=97.02%,        exactitud_val=66.57%,        exactitud_test=65.59%\n",
      "Época 39/50,        pérdida=0.0640,        exactitud_train=98.08%,        exactitud_val=67.37%,        exactitud_test=66.76%\n",
      "Época 40/50,        pérdida=0.0806,        exactitud_train=96.24%,        exactitud_val=65.87%,        exactitud_test=65.13%\n",
      "Época 41/50,        pérdida=0.0517,        exactitud_train=98.22%,        exactitud_val=67.80%,        exactitud_test=66.96%\n",
      "Época 42/50,        pérdida=0.0646,        exactitud_train=97.67%,        exactitud_val=66.52%,        exactitud_test=66.58%\n",
      "Época 43/50,        pérdida=0.0490,        exactitud_train=98.48%,        exactitud_val=67.31%,        exactitud_test=67.31%\n",
      "Época 44/50,        pérdida=0.0280,        exactitud_train=99.48%,        exactitud_val=67.22%,        exactitud_test=67.31%\n",
      "Época 45/50,        pérdida=0.0540,        exactitud_train=99.28%,        exactitud_val=67.70%,        exactitud_test=67.59%\n",
      "Época 46/50,        pérdida=0.0238,        exactitud_train=99.60%,        exactitud_val=67.71%,        exactitud_test=66.86%\n",
      "Época 47/50,        pérdida=0.0149,        exactitud_train=99.23%,        exactitud_val=67.20%,        exactitud_test=66.35%\n",
      "Época 48/50,        pérdida=0.0408,        exactitud_train=96.85%,        exactitud_val=66.83%,        exactitud_test=66.24%\n",
      "Época 49/50,        pérdida=0.1025,        exactitud_train=97.58%,        exactitud_val=66.31%,        exactitud_test=66.15%\n",
      "Época 50/50,        pérdida=0.0469,        exactitud_train=99.32%,        exactitud_val=67.99%,        exactitud_test=67.09%\n",
      "Fin del entrenamiento.\n"
     ]
    }
   ],
   "source": [
    "import torch.optim as optim\n",
    "\n",
    "# Caso base\n",
    "modelo_base = CNN().to(dispositivo)\n",
    "optim_base = optim.Adam(modelo_base.parameters())\n",
    "\n",
    "# Entrenamos el modelo base\n",
    "metricas_base = entrenar(modelo_base, train_loader, val_loader,\\\n",
    "                         test_loader, epocas, optim_base,\\\n",
    "                         func_perdida, dispositivo)"
   ]
  },
  {
   "cell_type": "markdown",
   "metadata": {},
   "source": [
    "Definición y visualización de los aumentados empleados en el caso avanzado"
   ]
  },
  {
   "cell_type": "code",
   "execution_count": 28,
   "metadata": {},
   "outputs": [
    {
     "data": {
      "image/png": "[encoded data removed]",
      "text/plain": [
       "<Figure size 1000x1000 with 2 Axes>"
      ]
     },
     "metadata": {},
     "output_type": "display_data"
    }
   ],
   "source": [
    "aumentados = transforms.Compose([\n",
    "    transforms.RandomRotation(5),\n",
    "    transforms.RandomHorizontalFlip(0.5),\n",
    "    transforms.RandomApply(nn.ModuleList(\n",
    "        [transforms.ColorJitter(brightness=0.2, hue=0.2)]), p=0.1)])\n",
    "\n",
    "# Visualizamos las imágenes aumentadas de un batch de entrenamiento\n",
    "fig, axs = plt.subplots(1, 2, figsize=(10, 10))\n",
    "for i in range(2):\n",
    "    axs[i].imshow(aumentados(imagenes[i]).permute(1, 2, 0))\n",
    "    axs[i].axis('off')\n",
    "plt.show()"
   ]
  },
  {
   "cell_type": "markdown",
   "metadata": {},
   "source": [
    "Entrenamiento del caso avanzado"
   ]
  },
  {
   "cell_type": "code",
   "execution_count": 29,
   "metadata": {},
   "outputs": [
    {
     "name": "stdout",
     "output_type": "stream",
     "text": [
      "Época 1/50,        pérdida=1.4299,        exactitud_train=57.55%,        exactitud_val=55.13%,        exactitud_test=55.39%\n",
      "Época 2/50,        pérdida=1.1031,        exactitud_train=65.68%,        exactitud_val=62.54%,        exactitud_test=62.62%\n",
      "Época 3/50,        pérdida=0.9591,        exactitud_train=57.88%,        exactitud_val=54.35%,        exactitud_test=54.48%\n",
      "Época 4/50,        pérdida=0.8403,        exactitud_train=75.97%,        exactitud_val=68.59%,        exactitud_test=68.13%\n",
      "Época 5/50,        pérdida=0.7635,        exactitud_train=78.72%,        exactitud_val=69.29%,        exactitud_test=68.52%\n",
      "Época 6/50,        pérdida=0.6872,        exactitud_train=77.06%,        exactitud_val=67.50%,        exactitud_test=66.67%\n",
      "Época 7/50,        pérdida=0.6289,        exactitud_train=84.19%,        exactitud_val=71.34%,        exactitud_test=70.66%\n",
      "Época 8/50,        pérdida=0.5797,        exactitud_train=85.96%,        exactitud_val=71.66%,        exactitud_test=71.33%\n",
      "Época 9/50,        pérdida=0.5301,        exactitud_train=87.78%,        exactitud_val=71.29%,        exactitud_test=71.50%\n",
      "Época 10/50,        pérdida=0.5027,        exactitud_train=89.09%,        exactitud_val=71.24%,        exactitud_test=71.55%\n",
      "Época 11/50,        pérdida=0.4706,        exactitud_train=88.81%,        exactitud_val=71.19%,        exactitud_test=70.93%\n",
      "Época 12/50,        pérdida=0.4257,        exactitud_train=91.92%,        exactitud_val=71.99%,        exactitud_test=71.92%\n",
      "Época 13/50,        pérdida=0.4079,        exactitud_train=88.30%,        exactitud_val=69.44%,        exactitud_test=69.24%\n",
      "Época 14/50,        pérdida=0.3829,        exactitud_train=91.61%,        exactitud_val=70.85%,        exactitud_test=71.44%\n",
      "Época 15/50,        pérdida=0.3716,        exactitud_train=90.96%,        exactitud_val=70.65%,        exactitud_test=70.10%\n",
      "Época 16/50,        pérdida=0.3406,        exactitud_train=93.22%,        exactitud_val=71.30%,        exactitud_test=71.87%\n",
      "Época 17/50,        pérdida=0.3242,        exactitud_train=93.44%,        exactitud_val=71.78%,        exactitud_test=71.80%\n",
      "No se ha mejorado la tasa de acierto en                      validación en 5 épocas.\n",
      "Fin del entrenamiento.\n"
     ]
    }
   ],
   "source": [
    "# Caso avanzado\n",
    "modelo_avan = CNN(normalizacion=True, dropout=0.5).to(dispositivo)\n",
    "optim_avan = optim.Adam(modelo_avan.parameters())\n",
    "\n",
    "# Entrenamos el modelo avanzado\n",
    "metricas_avan = entrenar(modelo_avan, train_loader, val_loader,\\\n",
    "                         test_loader, epocas, optim_avan,\\\n",
    "                         func_perdida, dispositivo, early_stop=True,\\\n",
    "                         paciencia=5, aumentados=aumentados)"
   ]
  },
  {
   "cell_type": "markdown",
   "metadata": {},
   "source": [
    "Comparación entre el caso base y el caso avanzado"
   ]
  },
  {
   "cell_type": "code",
   "execution_count": 33,
   "metadata": {},
   "outputs": [
    {
     "name": "stdout",
     "output_type": "stream",
     "text": [
      "Exactitud de test del modelo base: 68.67%\n",
      "Exactitud de test del modelo avanzado: 71.92%\n"
     ]
    },
    {
     "data": {
      "image/png": "[encoded data removed]",
      "text/plain": [
       "<Figure size 1500x500 with 2 Axes>"
      ]
     },
     "metadata": {},
     "output_type": "display_data"
    }
   ],
   "source": [
    "import numpy as np\n",
    "\n",
    "# Calcular la exactitud de test en función de la mejor exactitud de validación\n",
    "def test_acc_from_best_val_acc(metricas):\n",
    "    # Obtenemos la época asociada a la mejor exactitud de validación\n",
    "    epoca = np.argmax(metricas[2])\n",
    "    # Devolvemos la exactitud de test de esa época\n",
    "    return metricas[3][epoca]\n",
    "\n",
    "# Exactitud de test del modelo base\n",
    "test_acc_base = test_acc_from_best_val_acc(metricas_base)\n",
    "print(f'Exactitud de test del modelo base: {test_acc_base:.2f}%')\n",
    "\n",
    "# Exactitud de test del modelo avanzado\n",
    "test_acc_avan = test_acc_from_best_val_acc(metricas_avan)\n",
    "print(f'Exactitud de test del modelo avanzado: {test_acc_avan:.2f}%')\n",
    "\n",
    "# Visualizamos la perdida de entrenamiento y la exactitud de test\n",
    "# a lo largo de las épocas para ambos modelos\n",
    "fig, axs = plt.subplots(1, 2, figsize=(15, 5))\n",
    "res_comp = {'Pérdida de entrenamiento': 0, 'Exactitud de test': -1}\n",
    "for i, (k, v) in enumerate(res_comp.items()):\n",
    "    axs[i].plot(metricas_base[v], label='Base')\n",
    "    axs[i].plot(metricas_avan[v], label='Avanzado')\n",
    "    axs[i].set_xlabel('Épocas')\n",
    "    axs[i].set_ylabel(k)\n",
    "    axs[i].legend()\n",
    "plt.show()"
   ]
  },
  {
   "cell_type": "markdown",
   "metadata": {},
   "source": [
    "Cálculo de la época de paso del modelo avanzado"
   ]
  },
  {
   "cell_type": "code",
   "execution_count": 34,
   "metadata": {},
   "outputs": [
    {
     "name": "stdout",
     "output_type": "stream",
     "text": [
      "6\n"
     ]
    }
   ],
   "source": [
    "dif_epoca = np.argmax(metricas_avan[-1] > np.max(metricas_base[-1]))\n",
    "print(dif_epoca)"
   ]
  },
  {
   "cell_type": "code",
   "execution_count": 36,
   "metadata": {},
   "outputs": [
    {
     "data": {
      "text/plain": [
       "18"
      ]
     },
     "execution_count": 36,
     "metadata": {},
     "output_type": "execute_result"
    }
   ],
   "source": [
    "np.argmax(metricas_base[-2])"
   ]
  }
 ],
 "metadata": {
  "kernelspec": {
   "display_name": "prueba",
   "language": "python",
   "name": "python3"
  },
  "language_info": {
   "codemirror_mode": {
    "name": "ipython",
    "version": 3
   },
   "file_extension": ".py",
   "mimetype": "text/x-python",
   "name": "python",
   "nbconvert_exporter": "python",
   "pygments_lexer": "ipython3",
   "version": "3.10.11"
  },
  "orig_nbformat": 4
 },
 "nbformat": 4,
 "nbformat_minor": 2
}
